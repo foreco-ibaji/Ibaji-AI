{
 "cells": [
  {
   "cell_type": "code",
   "execution_count": 1,
   "id": "cf0bb347",
   "metadata": {},
   "outputs": [
    {
     "name": "stderr",
     "output_type": "stream",
     "text": [
      "Ultralytics YOLOv8.0.105  Python-3.8.16 torch-2.0.0 CUDA:0 (NVIDIA GeForce RTX 3090 Ti, 24564MiB)\n",
      "Setup complete  (20 CPUs, 31.8 GB RAM, 1230.2/1861.9 GB disk)\n"
     ]
    }
   ],
   "source": [
    "import ultralytics\n",
    "ultralytics.checks()"
   ]
  },
  {
   "cell_type": "code",
   "execution_count": 4,
   "id": "6442a012",
   "metadata": {},
   "outputs": [
    {
     "name": "stdout",
     "output_type": "stream",
     "text": [
      "11_X001_C012_1215_0.Json\n",
      "Training/Training_라벨링데이터\\가구류\\밥상\\11_X001_C012_1215\\11_X001_C012_1215_0.Json\n",
      "11_X001_C012_1215_1.Json\n",
      "Training/Training_라벨링데이터\\가구류\\밥상\\11_X001_C012_1215\\11_X001_C012_1215_1.Json\n",
      "11_X001_C012_1215_2.Json\n",
      "Training/Training_라벨링데이터\\가구류\\밥상\\11_X001_C012_1215\\11_X001_C012_1215_2.Json\n",
      "11_X001_C012_1215_3.Json\n",
      "Training/Training_라벨링데이터\\가구류\\밥상\\11_X001_C012_1215\\11_X001_C012_1215_3.Json\n",
      "11_X001_C012_1215_4.Json\n",
      "Training/Training_라벨링데이터\\가구류\\밥상\\11_X001_C012_1215\\11_X001_C012_1215_4.Json\n"
     ]
    }
   ],
   "source": [
    "import os\n",
    "\n",
    "PATH = 'Training/Training_라벨링데이터'\n",
    "\n",
    "for path1 in os.listdir(PATH):\n",
    "    for path2 in os.listdir(os.path.join(PATH, path1)):\n",
    "        for path3 in os.listdir(os.path.join(PATH, path1, path2)):\n",
    "            for path4 in os.listdir(os.path.join(PATH, path1, path2, path3)):\n",
    "                print(path4)\n",
    "                print(os.path.join(PATH, path1, path2, path3, path4))\n",
    "            break\n",
    "        break\n",
    "    break"
   ]
  },
  {
   "cell_type": "code",
   "execution_count": 100,
   "id": "1354696d",
   "metadata": {},
   "outputs": [],
   "source": [
    "def read_json(json_file):\n",
    "    # JSON 파일 읽기 (UTF-8 인코딩)\n",
    "    with open(json_file, encoding='utf-8') as f:\n",
    "        data = json.load(f)\n",
    "    \n",
    "        # 필요한 값 추출\n",
    "        file_name = data[\"FILE NAME\"]\n",
    "        boundings = []\n",
    "        for bounding in data[\"Bounding\"]:\n",
    "            class_name = bounding[\"CLASS\"]\n",
    "            try:\n",
    "                x1 = bounding[\"x1\"]\n",
    "                y1 = bounding[\"y1\"]\n",
    "                x2 = bounding[\"x2\"]\n",
    "                y2 = bounding[\"y2\"]\n",
    "            except:\n",
    "                x_values = []\n",
    "                y_values = []\n",
    "\n",
    "                PolygonPoints = []\n",
    "\n",
    "                for PolygonPoint in bounding[\"PolygonPoint\"]:\n",
    "                    PolygonPoints.append(list(PolygonPoint.values()))\n",
    "\n",
    "                # x, y 좌표 추출\n",
    "                for point in PolygonPoints:\n",
    "                    x, y = map(int, point[0].split(\",\"))\n",
    "                    x_values.append(x)\n",
    "                    y_values.append(y)\n",
    "\n",
    "                # 최소, 최대 값 추출\n",
    "                x1 = min(x_values)\n",
    "                y1 = min(y_values)\n",
    "                x2 = max(x_values)\n",
    "                y2 = max(y_values)\n",
    "            boundings.append([class_name, [str(x1), str(y1), str(x2), str(y2)]])\n",
    "    \n",
    "    return file_name, boundings"
   ]
  },
  {
   "cell_type": "code",
   "execution_count": 101,
   "id": "7966ee0b",
   "metadata": {
    "scrolled": true
   },
   "outputs": [
    {
     "name": "stderr",
     "output_type": "stream",
     "text": [
      "122022it [00:53, 2287.49it/s]"
     ]
    },
    {
     "name": "stdout",
     "output_type": "stream",
     "text": [
      "finish\n"
     ]
    },
    {
     "name": "stderr",
     "output_type": "stream",
     "text": [
      "\n"
     ]
    }
   ],
   "source": [
    "import os\n",
    "import json\n",
    "from collections import defaultdict\n",
    "from tqdm import tqdm\n",
    "\n",
    "PATH = 'C:\\\\Users\\\\juntae\\\\sesac\\\\datasets\\\\aihub\\\\waste\\\\Training_라벨링데이터'\n",
    "#PATH = 'C:\\\\Users\\\\juntae\\\\sesac\\\\datasets\\\\aihub\\\\waste\\\\Training_라벨링데이터\\\\가구류'\n",
    "\n",
    "yolo_dict = defaultdict(list)\n",
    "\n",
    "for root, dirs, files in tqdm(os.walk(PATH)):\n",
    "    for file in files:\n",
    "        Path = os.path.join(root, file)\n",
    "        file_name, boundings = read_json(Path)\n",
    "        \n",
    "        for bounding in boundings:\n",
    "            class_name, coordinate = bounding\n",
    "            x1, y1, x2, y2 = coordinate\n",
    "            file_class = class_name\n",
    "            if class_name == '가구류':\n",
    "                file_class = '0'\n",
    "            if class_name == '고철류':\n",
    "                file_class = '1'\n",
    "            if class_name == '나무류':\n",
    "                file_class = '2'\n",
    "            if class_name == '도기류':\n",
    "                file_class = '3'\n",
    "            if class_name == '비닐류':\n",
    "                file_class = '4'\n",
    "            if class_name == '스티로폼류':\n",
    "                file_class = '5'\n",
    "            if class_name == '유리병류':\n",
    "                file_class = '6'\n",
    "            if class_name == '의류':\n",
    "                file_class = '7'\n",
    "            if class_name == '자전거':\n",
    "                file_class = '8'\n",
    "            if class_name == '전자제품':\n",
    "                file_class = '9'\n",
    "            if class_name == '종이류':\n",
    "                file_class = '10'\n",
    "            if class_name == '캔류':\n",
    "                file_class = '11'\n",
    "            if class_name == '페트병류':\n",
    "                file_class = '12'\n",
    "            if class_name == '플라스틱류':\n",
    "                file_class = '13'\n",
    "            if class_name == '형광등':\n",
    "                file_class = '14'\n",
    "            yolo_dict[file_name].append([file_class] + coordinate)\n",
    "        \n",
    "print('finish')"
   ]
  },
  {
   "cell_type": "code",
   "execution_count": 102,
   "id": "9a4f5899",
   "metadata": {},
   "outputs": [
    {
     "data": {
      "text/html": [
       "<div>\n",
       "<style scoped>\n",
       "    .dataframe tbody tr th:only-of-type {\n",
       "        vertical-align: middle;\n",
       "    }\n",
       "\n",
       "    .dataframe tbody tr th {\n",
       "        vertical-align: top;\n",
       "    }\n",
       "\n",
       "    .dataframe thead th {\n",
       "        text-align: right;\n",
       "    }\n",
       "</style>\n",
       "<table border=\"1\" class=\"dataframe\">\n",
       "  <thead>\n",
       "    <tr style=\"text-align: right;\">\n",
       "      <th></th>\n",
       "      <th>labels</th>\n",
       "    </tr>\n",
       "  </thead>\n",
       "  <tbody>\n",
       "    <tr>\n",
       "      <th>11_X001_C012_1215_0.jpg</th>\n",
       "      <td>NaN</td>\n",
       "    </tr>\n",
       "    <tr>\n",
       "      <th>11_X001_C012_1215_1.jpg</th>\n",
       "      <td>NaN</td>\n",
       "    </tr>\n",
       "    <tr>\n",
       "      <th>11_X001_C012_1215_2.jpg</th>\n",
       "      <td>NaN</td>\n",
       "    </tr>\n",
       "    <tr>\n",
       "      <th>11_X001_C012_1215_3.jpg</th>\n",
       "      <td>NaN</td>\n",
       "    </tr>\n",
       "    <tr>\n",
       "      <th>11_X001_C012_1215_4.jpg</th>\n",
       "      <td>NaN</td>\n",
       "    </tr>\n",
       "  </tbody>\n",
       "</table>\n",
       "</div>"
      ],
      "text/plain": [
       "                        labels\n",
       "11_X001_C012_1215_0.jpg    NaN\n",
       "11_X001_C012_1215_1.jpg    NaN\n",
       "11_X001_C012_1215_2.jpg    NaN\n",
       "11_X001_C012_1215_3.jpg    NaN\n",
       "11_X001_C012_1215_4.jpg    NaN"
      ]
     },
     "execution_count": 102,
     "metadata": {},
     "output_type": "execute_result"
    }
   ],
   "source": [
    "import pandas as pd\n",
    "\n",
    "index = yolo_dict.keys()\n",
    "columns = ['labels']\n",
    "\n",
    "df = pd.DataFrame(columns=columns, index=index)\n",
    "df.head()"
   ]
  },
  {
   "cell_type": "code",
   "execution_count": 103,
   "id": "911ec0dc",
   "metadata": {},
   "outputs": [
    {
     "data": {
      "text/plain": [
       "[['0', '320', '192', '523', '731'],\n",
       " ['0', '534', '142', '1513', '1383'],\n",
       " ['10', '58', '408', '276', '578']]"
      ]
     },
     "execution_count": 103,
     "metadata": {},
     "output_type": "execute_result"
    }
   ],
   "source": [
    "yolo_dict[str(key)]"
   ]
  },
  {
   "cell_type": "code",
   "execution_count": 104,
   "id": "cbe9c102",
   "metadata": {
    "scrolled": true
   },
   "outputs": [
    {
     "name": "stdout",
     "output_type": "stream",
     "text": [
      "                                      labels\n",
      "11_X001_C012_1215_0.jpg  0,547,352,1460,1042\n",
      "11_X001_C012_1215_1.jpg  0,441,383,1536,1276\n",
      "11_X001_C012_1215_2.jpg  0,621,140,1607,1226\n",
      "11_X001_C012_1215_3.jpg  0,533,240,1735,1431\n",
      "11_X001_C012_1215_4.jpg  0,358,204,1571,1440\n"
     ]
    }
   ],
   "source": [
    "for key in list(index):\n",
    "    s = []\n",
    "    for label in yolo_dict[str(key)]:\n",
    "        s.append(','.join(label))\n",
    "    df.loc[str(key)][columns] = ' '.join(s)\n",
    "df.head()"
   ]
  },
  {
   "cell_type": "code",
   "execution_count": 106,
   "id": "d6c51a65",
   "metadata": {},
   "outputs": [],
   "source": [
    "#df.to_csv('재활용 xyxy label 수정.csv')"
   ]
  },
  {
   "cell_type": "code",
   "execution_count": 105,
   "id": "5f90fdb7",
   "metadata": {},
   "outputs": [
    {
     "data": {
      "text/html": [
       "<div>\n",
       "<style scoped>\n",
       "    .dataframe tbody tr th:only-of-type {\n",
       "        vertical-align: middle;\n",
       "    }\n",
       "\n",
       "    .dataframe tbody tr th {\n",
       "        vertical-align: top;\n",
       "    }\n",
       "\n",
       "    .dataframe thead th {\n",
       "        text-align: right;\n",
       "    }\n",
       "</style>\n",
       "<table border=\"1\" class=\"dataframe\">\n",
       "  <thead>\n",
       "    <tr style=\"text-align: right;\">\n",
       "      <th></th>\n",
       "      <th>labels</th>\n",
       "    </tr>\n",
       "  </thead>\n",
       "  <tbody>\n",
       "    <tr>\n",
       "      <th>11_X001_C012_1215_0.jpg</th>\n",
       "      <td>0,547,352,1460,1042</td>\n",
       "    </tr>\n",
       "    <tr>\n",
       "      <th>11_X001_C012_1215_1.jpg</th>\n",
       "      <td>0,441,383,1536,1276</td>\n",
       "    </tr>\n",
       "    <tr>\n",
       "      <th>11_X001_C012_1215_2.jpg</th>\n",
       "      <td>0,621,140,1607,1226</td>\n",
       "    </tr>\n",
       "    <tr>\n",
       "      <th>11_X001_C012_1215_3.jpg</th>\n",
       "      <td>0,533,240,1735,1431</td>\n",
       "    </tr>\n",
       "    <tr>\n",
       "      <th>11_X001_C012_1215_4.jpg</th>\n",
       "      <td>0,358,204,1571,1440</td>\n",
       "    </tr>\n",
       "    <tr>\n",
       "      <th>...</th>\n",
       "      <td>...</td>\n",
       "    </tr>\n",
       "    <tr>\n",
       "      <th>25_X133_C318_1214_0.jpg</th>\n",
       "      <td>14,652,353,1446,1164</td>\n",
       "    </tr>\n",
       "    <tr>\n",
       "      <th>25_X133_C318_1214_1.jpg</th>\n",
       "      <td>14,628,393,1552,932</td>\n",
       "    </tr>\n",
       "    <tr>\n",
       "      <th>25_X133_C318_1214_2.jpg</th>\n",
       "      <td>14,657,296,1382,692</td>\n",
       "    </tr>\n",
       "    <tr>\n",
       "      <th>25_X133_C318_1214_3.jpg</th>\n",
       "      <td>14,716,444,1271,835</td>\n",
       "    </tr>\n",
       "    <tr>\n",
       "      <th>25_X133_C318_1214_4.jpg</th>\n",
       "      <td>14,646,411,1129,781</td>\n",
       "    </tr>\n",
       "  </tbody>\n",
       "</table>\n",
       "<p>609927 rows × 1 columns</p>\n",
       "</div>"
      ],
      "text/plain": [
       "                                       labels\n",
       "11_X001_C012_1215_0.jpg   0,547,352,1460,1042\n",
       "11_X001_C012_1215_1.jpg   0,441,383,1536,1276\n",
       "11_X001_C012_1215_2.jpg   0,621,140,1607,1226\n",
       "11_X001_C012_1215_3.jpg   0,533,240,1735,1431\n",
       "11_X001_C012_1215_4.jpg   0,358,204,1571,1440\n",
       "...                                       ...\n",
       "25_X133_C318_1214_0.jpg  14,652,353,1446,1164\n",
       "25_X133_C318_1214_1.jpg   14,628,393,1552,932\n",
       "25_X133_C318_1214_2.jpg   14,657,296,1382,692\n",
       "25_X133_C318_1214_3.jpg   14,716,444,1271,835\n",
       "25_X133_C318_1214_4.jpg   14,646,411,1129,781\n",
       "\n",
       "[609927 rows x 1 columns]"
      ]
     },
     "execution_count": 105,
     "metadata": {},
     "output_type": "execute_result"
    }
   ],
   "source": [
    "df"
   ]
  },
  {
   "cell_type": "code",
   "execution_count": 2,
   "id": "47678cb3",
   "metadata": {},
   "outputs": [],
   "source": [
    "import pandas as pd"
   ]
  },
  {
   "cell_type": "code",
   "execution_count": 6,
   "id": "d8ae5769",
   "metadata": {},
   "outputs": [],
   "source": [
    "df = pd.read_csv('재활용 xyxy label 수정.csv', index_col=0)"
   ]
  },
  {
   "cell_type": "code",
   "execution_count": 107,
   "id": "b2bc3eae",
   "metadata": {},
   "outputs": [
    {
     "data": {
      "text/html": [
       "<div>\n",
       "<style scoped>\n",
       "    .dataframe tbody tr th:only-of-type {\n",
       "        vertical-align: middle;\n",
       "    }\n",
       "\n",
       "    .dataframe tbody tr th {\n",
       "        vertical-align: top;\n",
       "    }\n",
       "\n",
       "    .dataframe thead th {\n",
       "        text-align: right;\n",
       "    }\n",
       "</style>\n",
       "<table border=\"1\" class=\"dataframe\">\n",
       "  <thead>\n",
       "    <tr style=\"text-align: right;\">\n",
       "      <th></th>\n",
       "      <th>labels</th>\n",
       "    </tr>\n",
       "  </thead>\n",
       "  <tbody>\n",
       "    <tr>\n",
       "      <th>11_X001_C012_1215_0.jpg</th>\n",
       "      <td>0,547,352,1460,1042</td>\n",
       "    </tr>\n",
       "    <tr>\n",
       "      <th>11_X001_C012_1215_1.jpg</th>\n",
       "      <td>0,441,383,1536,1276</td>\n",
       "    </tr>\n",
       "    <tr>\n",
       "      <th>11_X001_C012_1215_2.jpg</th>\n",
       "      <td>0,621,140,1607,1226</td>\n",
       "    </tr>\n",
       "    <tr>\n",
       "      <th>11_X001_C012_1215_3.jpg</th>\n",
       "      <td>0,533,240,1735,1431</td>\n",
       "    </tr>\n",
       "    <tr>\n",
       "      <th>11_X001_C012_1215_4.jpg</th>\n",
       "      <td>0,358,204,1571,1440</td>\n",
       "    </tr>\n",
       "  </tbody>\n",
       "</table>\n",
       "</div>"
      ],
      "text/plain": [
       "                                      labels\n",
       "11_X001_C012_1215_0.jpg  0,547,352,1460,1042\n",
       "11_X001_C012_1215_1.jpg  0,441,383,1536,1276\n",
       "11_X001_C012_1215_2.jpg  0,621,140,1607,1226\n",
       "11_X001_C012_1215_3.jpg  0,533,240,1735,1431\n",
       "11_X001_C012_1215_4.jpg  0,358,204,1571,1440"
      ]
     },
     "execution_count": 107,
     "metadata": {},
     "output_type": "execute_result"
    }
   ],
   "source": [
    "df.head()"
   ]
  },
  {
   "cell_type": "code",
   "execution_count": 108,
   "id": "d234eeb3",
   "metadata": {},
   "outputs": [],
   "source": [
    "from collections import defaultdict"
   ]
  },
  {
   "cell_type": "code",
   "execution_count": 16,
   "id": "b7ddc5bf",
   "metadata": {},
   "outputs": [],
   "source": [
    "yolo_dict = defaultdict(list)"
   ]
  },
  {
   "cell_type": "code",
   "execution_count": 24,
   "id": "f1ee12bd",
   "metadata": {},
   "outputs": [],
   "source": [
    "for index in df.index:\n",
    "    yolo_dict[index] = df.loc[index]"
   ]
  },
  {
   "cell_type": "code",
   "execution_count": 6,
   "id": "d8b05898",
   "metadata": {},
   "outputs": [
    {
     "name": "stdout",
     "output_type": "stream",
     "text": [
      "finish\n"
     ]
    }
   ],
   "source": [
    "import os\n",
    "import shutil\n",
    "a = []\n",
    "PATH = 'Training'\n",
    "for root, dirs, files in os.walk(PATH):\n",
    "    for file in files:\n",
    "        if file.endswith('_0.jpg') or file.endswith('_0.txt'):\n",
    "            continue\n",
    "        Path = os.path.join(root, file)\n",
    "        if file == 'Untitled-checkpoint.ipynb':\n",
    "            continue\n",
    "        try:\n",
    "            shutil.move(Path, 'dummy')\n",
    "        except:\n",
    "            continue\n",
    "print('finish')"
   ]
  },
  {
   "cell_type": "code",
   "execution_count": 14,
   "id": "ae5e4b1a",
   "metadata": {},
   "outputs": [
    {
     "name": "stdout",
     "output_type": "stream",
     "text": [
      "finish\n"
     ]
    }
   ],
   "source": [
    "# import os\n",
    "# import shutil\n",
    "\n",
    "# PATH = 'Training'\n",
    "\n",
    "# for root, dirs, files in os.walk(PATH):\n",
    "#     for file in files:\n",
    "#         Path = os.path.join(root, file)\n",
    "#         if file == 'Untitled-checkpoint.ipynb':\n",
    "#             continue\n",
    "#         try:\n",
    "#             shutil.move(Path, PATH)\n",
    "#         except:\n",
    "#             continue\n",
    "# print('finish')"
   ]
  },
  {
   "cell_type": "code",
   "execution_count": 2,
   "id": "376f5843",
   "metadata": {},
   "outputs": [],
   "source": [
    "import pandas as pd\n",
    "\n",
    "df = pd.read_csv('재활용 xyxy label 수정.csv', index_col=0)"
   ]
  },
  {
   "cell_type": "code",
   "execution_count": 11,
   "id": "d233d266",
   "metadata": {},
   "outputs": [
    {
     "data": {
      "text/html": [
       "<div>\n",
       "<style scoped>\n",
       "    .dataframe tbody tr th:only-of-type {\n",
       "        vertical-align: middle;\n",
       "    }\n",
       "\n",
       "    .dataframe tbody tr th {\n",
       "        vertical-align: top;\n",
       "    }\n",
       "\n",
       "    .dataframe thead th {\n",
       "        text-align: right;\n",
       "    }\n",
       "</style>\n",
       "<table border=\"1\" class=\"dataframe\">\n",
       "  <thead>\n",
       "    <tr style=\"text-align: right;\">\n",
       "      <th></th>\n",
       "      <th>labels</th>\n",
       "    </tr>\n",
       "  </thead>\n",
       "  <tbody>\n",
       "    <tr>\n",
       "      <th>11_X001_C012_1215_0.jpg</th>\n",
       "      <td>0,547,352,1460,1042</td>\n",
       "    </tr>\n",
       "    <tr>\n",
       "      <th>11_X001_C012_1215_1.jpg</th>\n",
       "      <td>0,441,383,1536,1276</td>\n",
       "    </tr>\n",
       "    <tr>\n",
       "      <th>11_X001_C012_1215_2.jpg</th>\n",
       "      <td>0,621,140,1607,1226</td>\n",
       "    </tr>\n",
       "    <tr>\n",
       "      <th>11_X001_C012_1215_3.jpg</th>\n",
       "      <td>0,533,240,1735,1431</td>\n",
       "    </tr>\n",
       "    <tr>\n",
       "      <th>11_X001_C012_1215_4.jpg</th>\n",
       "      <td>0,358,204,1571,1440</td>\n",
       "    </tr>\n",
       "  </tbody>\n",
       "</table>\n",
       "</div>"
      ],
      "text/plain": [
       "                                      labels\n",
       "11_X001_C012_1215_0.jpg  0,547,352,1460,1042\n",
       "11_X001_C012_1215_1.jpg  0,441,383,1536,1276\n",
       "11_X001_C012_1215_2.jpg  0,621,140,1607,1226\n",
       "11_X001_C012_1215_3.jpg  0,533,240,1735,1431\n",
       "11_X001_C012_1215_4.jpg  0,358,204,1571,1440"
      ]
     },
     "execution_count": 11,
     "metadata": {},
     "output_type": "execute_result"
    }
   ],
   "source": [
    "df.head()"
   ]
  },
  {
   "cell_type": "code",
   "execution_count": 12,
   "id": "60dc0fa8",
   "metadata": {},
   "outputs": [
    {
     "name": "stdout",
     "output_type": "stream",
     "text": [
      "finish\n"
     ]
    }
   ],
   "source": [
    "import os\n",
    "import json\n",
    "from PIL import Image\n",
    "from collections import defaultdict\n",
    "\n",
    "PATH = 'Training'\n",
    "\n",
    "yolo = defaultdict(list)\n",
    "\n",
    "for root, dirs, files in os.walk(PATH):\n",
    "    for file in files:\n",
    "        if file.endswith('_0.jpg'):\n",
    "            Path = os.path.join(root, file)\n",
    "\n",
    "            # 이미지 열기\n",
    "            image = Image.open(Path)\n",
    "\n",
    "            # 이미지의 크기 확인\n",
    "            image_width, image_height = image.size\n",
    "            \n",
    "            f = open(''.join(Path.split('.')[:-1]) + f\".txt\", 'w')\n",
    "            \n",
    "            for label in list(df.loc[file])[0].split(' '):\n",
    "                file_class, x1, y1, x2, y2 = map(int, label.split(','))\n",
    "\n",
    "                x = (x1 + x2) / (2 * image_width)\n",
    "                y = (y1 + y2) / (2 * image_height)\n",
    "                w = (x2 - x1) / image_width\n",
    "                h = (y2 - y1) / image_height\n",
    "                \n",
    "                yolo[Path].append([str(file_class)] + [str(x1), str(y1), str(x2), str(y2)])\n",
    "                \n",
    "                f.write(f\"{file_class} {x} {y} {w} {h}\\n\")\n",
    "                \n",
    "            f.close()\n",
    "\n",
    "                \n",
    "print('finish')"
   ]
  },
  {
   "cell_type": "code",
   "execution_count": 13,
   "id": "4168af45",
   "metadata": {},
   "outputs": [
    {
     "name": "stdout",
     "output_type": "stream",
     "text": [
      "finish\n"
     ]
    }
   ],
   "source": [
    "import os\n",
    "import json\n",
    "from PIL import Image\n",
    "from collections import defaultdict\n",
    "\n",
    "PATH = 'dummy'\n",
    "\n",
    "for root, dirs, files in os.walk(PATH):\n",
    "    for file in files:\n",
    "        if file.endswith('.jpg'):\n",
    "            Path = os.path.join(root, file)\n",
    "\n",
    "            # 이미지 열기\n",
    "            image = Image.open(Path)\n",
    "\n",
    "            # 이미지의 크기 확인\n",
    "            image_width, image_height = image.size\n",
    "            \n",
    "            f = open(''.join(Path.split('.')[:-1]) + f\".txt\", 'w')\n",
    "            \n",
    "            for label in list(df.loc[file])[0].split(' '):\n",
    "                file_class, x1, y1, x2, y2 = map(int, label.split(','))\n",
    "            \n",
    "                x = (x1 + x2) / (2 * image_width)\n",
    "                y = (y1 + y2) / (2 * image_height)\n",
    "                w = (x2 - x1) / image_width\n",
    "                h = (y2 - y1) / image_height\n",
    "                \n",
    "                yolo[Path].append([str(file_class)] + [str(x1), str(y1), str(x2), str(y2)])\n",
    "                \n",
    "                f.write(f\"{file_class} {x} {y} {w} {h}\\n\")\n",
    "                \n",
    "            f.close()\n",
    "                \n",
    "print('finish')"
   ]
  },
  {
   "cell_type": "code",
   "execution_count": 14,
   "id": "f6b1feb6",
   "metadata": {},
   "outputs": [
    {
     "data": {
      "text/plain": [
       "609927"
      ]
     },
     "execution_count": 14,
     "metadata": {},
     "output_type": "execute_result"
    }
   ],
   "source": [
    "len(list(yolo.keys()))"
   ]
  },
  {
   "cell_type": "code",
   "execution_count": 123,
   "id": "6161a8a2",
   "metadata": {},
   "outputs": [
    {
     "data": {
      "text/html": [
       "<div>\n",
       "<style scoped>\n",
       "    .dataframe tbody tr th:only-of-type {\n",
       "        vertical-align: middle;\n",
       "    }\n",
       "\n",
       "    .dataframe tbody tr th {\n",
       "        vertical-align: top;\n",
       "    }\n",
       "\n",
       "    .dataframe thead th {\n",
       "        text-align: right;\n",
       "    }\n",
       "</style>\n",
       "<table border=\"1\" class=\"dataframe\">\n",
       "  <thead>\n",
       "    <tr style=\"text-align: right;\">\n",
       "      <th></th>\n",
       "      <th>labels</th>\n",
       "    </tr>\n",
       "  </thead>\n",
       "  <tbody>\n",
       "    <tr>\n",
       "      <th>Training\\11_X001_C012_1215_0.jpg</th>\n",
       "      <td>NaN</td>\n",
       "    </tr>\n",
       "    <tr>\n",
       "      <th>Training\\11_X001_C012_1217_0.jpg</th>\n",
       "      <td>NaN</td>\n",
       "    </tr>\n",
       "    <tr>\n",
       "      <th>Training\\11_X001_C013_1030_0.jpg</th>\n",
       "      <td>NaN</td>\n",
       "    </tr>\n",
       "    <tr>\n",
       "      <th>Training\\11_X001_C013_1214_0.jpg</th>\n",
       "      <td>NaN</td>\n",
       "    </tr>\n",
       "    <tr>\n",
       "      <th>Training\\11_X001_C013_1218_0.jpg</th>\n",
       "      <td>NaN</td>\n",
       "    </tr>\n",
       "  </tbody>\n",
       "</table>\n",
       "</div>"
      ],
      "text/plain": [
       "                                 labels\n",
       "Training\\11_X001_C012_1215_0.jpg    NaN\n",
       "Training\\11_X001_C012_1217_0.jpg    NaN\n",
       "Training\\11_X001_C013_1030_0.jpg    NaN\n",
       "Training\\11_X001_C013_1214_0.jpg    NaN\n",
       "Training\\11_X001_C013_1218_0.jpg    NaN"
      ]
     },
     "execution_count": 123,
     "metadata": {},
     "output_type": "execute_result"
    }
   ],
   "source": [
    "import pandas as pd\n",
    "\n",
    "index = yolo.keys()\n",
    "columns = ['labels']\n",
    "\n",
    "df = pd.DataFrame(columns=columns, index=index)\n",
    "df.head()"
   ]
  },
  {
   "cell_type": "code",
   "execution_count": 131,
   "id": "4e1aa44d",
   "metadata": {},
   "outputs": [
    {
     "data": {
      "text/html": [
       "<div>\n",
       "<style scoped>\n",
       "    .dataframe tbody tr th:only-of-type {\n",
       "        vertical-align: middle;\n",
       "    }\n",
       "\n",
       "    .dataframe tbody tr th {\n",
       "        vertical-align: top;\n",
       "    }\n",
       "\n",
       "    .dataframe thead th {\n",
       "        text-align: right;\n",
       "    }\n",
       "</style>\n",
       "<table border=\"1\" class=\"dataframe\">\n",
       "  <thead>\n",
       "    <tr style=\"text-align: right;\">\n",
       "      <th></th>\n",
       "      <th>labels</th>\n",
       "    </tr>\n",
       "  </thead>\n",
       "  <tbody>\n",
       "    <tr>\n",
       "      <th>Training\\11_X001_C012_1215_0.jpg</th>\n",
       "      <td>0,547,352,1460,1042</td>\n",
       "    </tr>\n",
       "    <tr>\n",
       "      <th>Training\\11_X001_C012_1217_0.jpg</th>\n",
       "      <td>0,309,81,1450,1226</td>\n",
       "    </tr>\n",
       "    <tr>\n",
       "      <th>Training\\11_X001_C013_1030_0.jpg</th>\n",
       "      <td>0,703,31,1285,1080</td>\n",
       "    </tr>\n",
       "    <tr>\n",
       "      <th>Training\\11_X001_C013_1214_0.jpg</th>\n",
       "      <td>0,250,157,1453,1043</td>\n",
       "    </tr>\n",
       "    <tr>\n",
       "      <th>Training\\11_X001_C013_1218_0.jpg</th>\n",
       "      <td>0,246,32,1779,987</td>\n",
       "    </tr>\n",
       "  </tbody>\n",
       "</table>\n",
       "</div>"
      ],
      "text/plain": [
       "                                               labels\n",
       "Training\\11_X001_C012_1215_0.jpg  0,547,352,1460,1042\n",
       "Training\\11_X001_C012_1217_0.jpg   0,309,81,1450,1226\n",
       "Training\\11_X001_C013_1030_0.jpg   0,703,31,1285,1080\n",
       "Training\\11_X001_C013_1214_0.jpg  0,250,157,1453,1043\n",
       "Training\\11_X001_C013_1218_0.jpg    0,246,32,1779,987"
      ]
     },
     "execution_count": 131,
     "metadata": {},
     "output_type": "execute_result"
    }
   ],
   "source": [
    "for key in list(index):\n",
    "    s = []\n",
    "    for label in yolo[str(key)]:\n",
    "        s.append(','.join(label))\n",
    "    df.loc[str(key)][columns] = ' '.join(s)\n",
    "df.head()"
   ]
  },
  {
   "cell_type": "code",
   "execution_count": 132,
   "id": "0d50cfc0",
   "metadata": {},
   "outputs": [],
   "source": [
    "df.to_csv('재활용 xyxy label 수정 상대좌표와 path 추가.csv')"
   ]
  },
  {
   "cell_type": "code",
   "execution_count": null,
   "id": "dd5a6d86",
   "metadata": {},
   "outputs": [],
   "source": [
    "polygon_points = points\n",
    "x_values = []\n",
    "y_values = []\n",
    "\n",
    "# x, y 좌표 추출\n",
    "for point in polygon_points:\n",
    "    x, y = map(int, list(point.values())[0].split(\",\"))\n",
    "    x_values.append(x)\n",
    "    y_values.append(y)\n",
    "\n",
    "# 최소, 최대 값 추출\n",
    "x1 = min(x_values)\n",
    "y1 = min(y_values)\n",
    "x2 = max(x_values)\n",
    "y2 = max(y_values)\n",
    "\n",
    "# xyxy 좌표 출력\n",
    "xyxy_coordinates = (x1, y1, x2, y2)\n",
    "print(\"xyxy coordinates:\", xyxy_coordinates)"
   ]
  },
  {
   "cell_type": "code",
   "execution_count": 43,
   "id": "f9103347",
   "metadata": {},
   "outputs": [
    {
     "data": {
      "image/png": "[encoded data removed]",
      "text/plain": [
       "<Figure size 640x480 with 1 Axes>"
      ]
     },
     "metadata": {},
     "output_type": "display_data"
    }
   ],
   "source": [
    "import matplotlib.pyplot as plt\n",
    "\n",
    "# x, y 좌표 추출\n",
    "x_values = []\n",
    "y_values = []\n",
    "for point in points:\n",
    "    x, y = map(int, list(point.values())[0].split(\",\"))\n",
    "    x_values.append(x)\n",
    "    y_values.append(y)\n",
    "\n",
    "# 그래프 그리기\n",
    "plt.plot(x_values, y_values)\n",
    "plt.xlabel(\"x\")\n",
    "plt.ylabel(\"y\")\n",
    "plt.title(\"Polygon Points\")\n",
    "plt.show()\n"
   ]
  },
  {
   "cell_type": "code",
   "execution_count": null,
   "id": "cb3269a2",
   "metadata": {},
   "outputs": [],
   "source": [
    "# 가구류 0 \n",
    "# 고철류 1\n",
    "# 나무 2\n",
    "# 도기류 3\n",
    "# 비닐 4\n",
    "# 스티로폼 5\n",
    "# 유리병 6\n",
    "# 의류 7\n",
    "# 자전거 8\n",
    "# 전자제품 9\n",
    "# 종이류 10\n",
    "# 캔류 11\n",
    "# 페트병 12\n",
    "# 플라스틱류 13\n",
    "# 형광등 14"
   ]
  },
  {
   "cell_type": "code",
   "execution_count": 1,
   "id": "dc54199c",
   "metadata": {
    "scrolled": false
   },
   "outputs": [
    {
     "name": "stderr",
     "output_type": "stream",
     "text": [
      "Ultralytics YOLOv8.0.112  Python-3.8.16 torch-2.0.0 CUDA:0 (NVIDIA GeForce RTX 3090 Ti, 24564MiB)\n",
      "Setup complete  (20 CPUs, 31.8 GB RAM, 1288.4/1861.9 GB disk)\n"
     ]
    }
   ],
   "source": [
    "import ultralytics\n",
    "ultralytics.checks()"
   ]
  },
  {
   "cell_type": "code",
   "execution_count": 1,
   "id": "5ffe8346",
   "metadata": {
    "scrolled": false
   },
   "outputs": [
    {
     "name": "stderr",
     "output_type": "stream",
     "text": [
      "\n",
      "                   from  n    params  module                                       arguments                     \n",
      "  0                  -1  1      1392  ultralytics.nn.modules.conv.Conv             [3, 48, 3, 2]                 \n",
      "  1                  -1  1     41664  ultralytics.nn.modules.conv.Conv             [48, 96, 3, 2]                \n",
      "  2                  -1  2    111360  ultralytics.nn.modules.block.C2f             [96, 96, 2, True]             \n",
      "  3                  -1  1    166272  ultralytics.nn.modules.conv.Conv             [96, 192, 3, 2]               \n",
      "  4                  -1  4    813312  ultralytics.nn.modules.block.C2f             [192, 192, 4, True]           \n",
      "  5                  -1  1    664320  ultralytics.nn.modules.conv.Conv             [192, 384, 3, 2]              \n",
      "  6                  -1  4   3248640  ultralytics.nn.modules.block.C2f             [384, 384, 4, True]           \n",
      "  7                  -1  1   1991808  ultralytics.nn.modules.conv.Conv             [384, 576, 3, 2]              \n",
      "  8                  -1  2   3985920  ultralytics.nn.modules.block.C2f             [576, 576, 2, True]           \n",
      "  9                  -1  1    831168  ultralytics.nn.modules.block.SPPF            [576, 576, 5]                 \n",
      " 10                  -1  1         0  torch.nn.modules.upsampling.Upsample         [None, 2, 'nearest']          \n",
      " 11             [-1, 6]  1         0  ultralytics.nn.modules.conv.Concat           [1]                           \n",
      " 12                  -1  2   1993728  ultralytics.nn.modules.block.C2f             [960, 384, 2]                 \n",
      " 13                  -1  1         0  torch.nn.modules.upsampling.Upsample         [None, 2, 'nearest']          \n",
      " 14             [-1, 4]  1         0  ultralytics.nn.modules.conv.Concat           [1]                           \n",
      " 15                  -1  2    517632  ultralytics.nn.modules.block.C2f             [576, 192, 2]                 \n",
      " 16                  -1  1    332160  ultralytics.nn.modules.conv.Conv             [192, 192, 3, 2]              \n",
      " 17            [-1, 12]  1         0  ultralytics.nn.modules.conv.Concat           [1]                           \n",
      " 18                  -1  2   1846272  ultralytics.nn.modules.block.C2f             [576, 384, 2]                 \n",
      " 19                  -1  1   1327872  ultralytics.nn.modules.conv.Conv             [384, 384, 3, 2]              \n",
      " 20             [-1, 9]  1         0  ultralytics.nn.modules.conv.Concat           [1]                           \n",
      " 21                  -1  2   4207104  ultralytics.nn.modules.block.C2f             [960, 576, 2]                 \n",
      " 22        [15, 18, 21]  1   3822016  ultralytics.nn.modules.head.Detect           [80, [192, 384, 576]]         \n",
      "YOLOv8m summary: 295 layers, 25902640 parameters, 25902624 gradients\n",
      "\n",
      "Transferred 475/475 items from pretrained weights\n"
     ]
    }
   ],
   "source": [
    "from ultralytics import YOLO\n",
    "\n",
    "# Load the model\n",
    "#model = YOLO('yolov8m.pt') # load a pretrained model\n",
    "model = YOLO('yolov8m.yaml').load('yolov8m.pt')\n",
    "\n",
    "#yolov8n.pt, yolov8s.pt, yolov8m.pt, yolov8l.pt, yolov8x.pt"
   ]
  },
  {
   "cell_type": "code",
   "execution_count": 1,
   "id": "6790e495",
   "metadata": {},
   "outputs": [],
   "source": [
    "from ultralytics import YOLO\n",
    "\n",
    "model = YOLO('C:\\\\Users\\\\juntae\\\\sesac\\\\datasets\\\\aihub\\\\waste\\\\runs\\\\detect\\\\train22\\\\weights\\\\last.pt')"
   ]
  },
  {
   "cell_type": "code",
   "execution_count": 2,
   "id": "7ff1e1a0",
   "metadata": {
    "scrolled": false
   },
   "outputs": [],
   "source": [
    "# Train the model\n",
    "results = model.train(\n",
    "    data='./sesac.yaml',\n",
    "    pretrained=True,\n",
    "    epochs=100,\n",
    "    save_period=1,\n",
    "    optimizer='AdamW',\n",
    "    name='train22',\n",
    "    batch=32,\n",
    "    device=0,\n",
    "    seed=42,\n",
    "    lr0=3e-3,\n",
    "    label_smoothing=0.05,\n",
    "    workers=8,\n",
    "    #exist_ok=True,\n",
    "    resume=True,\n",
    "    patience=3,\n",
    "    imgsz=640,\n",
    "    cos_lr=True,\n",
    "    val=True\n",
    ")"
   ]
  },
  {
   "cell_type": "code",
   "execution_count": 2,
   "id": "b47c3b83",
   "metadata": {},
   "outputs": [
    {
     "name": "stderr",
     "output_type": "stream",
     "text": [
      "Ultralytics YOLOv8.0.112  Python-3.8.16 torch-2.0.0 CUDA:0 (NVIDIA GeForce RTX 3090 Ti, 24564MiB)\n",
      "YOLOv8n summary (fused): 168 layers, 3008573 parameters, 0 gradients\n",
      "\u001b[34m\u001b[1mval: \u001b[0mScanning C:\\Users\\juntae\\sesac\\datasets\\aihub\\waste\\dummy.cache... 489704 images, 0 backgrounds, 0 corrupt: 100%|█\u001b[0m\n",
      "\u001b[34m\u001b[1mval: \u001b[0mWARNING  C:\\Users\\juntae\\sesac\\datasets\\aihub\\waste\\dummy\\14_X016_C055_1203_1.jpg: 1 duplicate labels removed\n",
      "\u001b[34m\u001b[1mval: \u001b[0mWARNING  C:\\Users\\juntae\\sesac\\datasets\\aihub\\waste\\dummy\\15_X018_C173_1112_2.jpg: 1 duplicate labels removed\n",
      "\u001b[34m\u001b[1mval: \u001b[0mWARNING  C:\\Users\\juntae\\sesac\\datasets\\aihub\\waste\\dummy\\16_X009_C169_1209_1.jpg: 1 duplicate labels removed\n",
      "\u001b[34m\u001b[1mval: \u001b[0mWARNING  C:\\Users\\juntae\\sesac\\datasets\\aihub\\waste\\dummy\\18_X010_C208_1111_1.jpg: 1 duplicate labels removed\n",
      "\u001b[34m\u001b[1mval: \u001b[0mWARNING  C:\\Users\\juntae\\sesac\\datasets\\aihub\\waste\\dummy\\18_X013_C172_1203_4.jpg: 1 duplicate labels removed\n",
      "\u001b[34m\u001b[1mval: \u001b[0mWARNING  C:\\Users\\juntae\\sesac\\datasets\\aihub\\waste\\dummy\\19_X007_C012_1116_2.jpg: 1 duplicate labels removed\n",
      "                 Class     Images  Instances      Box(P          R      mAP50  mAP50-95):  80%|████████  | 24559/30607 "
     ]
    }
   ],
   "source": [
    "results = model.val(data='./sesac.yaml',)  # evaluate model performance on the validation set"
   ]
  },
  {
   "cell_type": "code",
   "execution_count": null,
   "id": "a05f975f",
   "metadata": {},
   "outputs": [],
   "source": []
  },
  {
   "cell_type": "code",
   "execution_count": 2,
   "id": "0f61b7c5",
   "metadata": {},
   "outputs": [],
   "source": [
    "Path = 'C:\\\\Users\\\\juntae\\\\sesac\\\\datasets\\\\aihub\\\\waste'"
   ]
  },
  {
   "cell_type": "code",
   "execution_count": 60,
   "id": "5d5cc402",
   "metadata": {},
   "outputs": [],
   "source": [
    "img1 = 'C:\\\\Users\\\\juntae\\\\sesac\\\\datasets\\\\aihub\\\\waste\\\\Training\\\\11_X001_C012_1215_0.jpg'\n",
    "img2 = 'C:\\\\Users\\\\juntae\\\\sesac\\\\datasets\\\\aihub\\\\waste\\\\Training\\\\11_X001_C023_0119_0.jpg'\n",
    "img3 = 'C:\\\\Users\\\\juntae\\\\sesac\\\\datasets\\\\aihub\\\\waste\\\\Validation\\\\24_X001_C014_1204_3.jpg'\n",
    "img4 = 'C:\\\\Users\\\\juntae\\\\sesac\\\\datasets\\\\aihub\\\\waste\\\\Validation\\\\24_X001_C331_1208_4.jpg'\n",
    "img5 = 'C:\\\\Users\\\\juntae\\\\sesac\\\\datasets\\\\aihub\\\\waste\\\\Validation\\\\24_X005_C053_1216_0.jpg'\n",
    "img6 = 'C:\\\\Users\\\\juntae\\\\sesac\\\\datasets\\\\aihub\\\\waste\\\\Validation\\\\21_X053_C203_1007_4.jpg'\n",
    "img7 = 'C:\\\\Users\\\\juntae\\\\sesac\\\\datasets\\\\aihub\\\\waste\\\\Validation\\\\17_X358_C976_0331_4.jpg'\n",
    "img8 = 'C:\\\\Users\\\\juntae\\\\sesac\\\\datasets\\\\aihub\\\\waste\\\\Validation\\\\25_X053_C501_1130_4.jpg'\n"
   ]
  },
  {
   "cell_type": "code",
   "execution_count": 61,
   "id": "f1c359c3",
   "metadata": {},
   "outputs": [],
   "source": [
    "inputs = [img8]  # list of numpy arrays\n",
    "results = model(inputs)  # list of Results objects\n",
    "\n",
    "for result in results:\n",
    "    boxes = result.boxes  # Boxes object for bbox outputs\n",
    "    masks = result.masks  # Masks object for segmentation masks outputs\n",
    "    probs = result.probs  # Class probabilities for classification outputs"
   ]
  },
  {
   "cell_type": "code",
   "execution_count": 62,
   "id": "2a943316",
   "metadata": {},
   "outputs": [],
   "source": [
    "bboxes = []\n",
    "annotations = []\n",
    "fileName = img8\n",
    "\n",
    "for box in boxes:\n",
    "    x1, y1, x2, y2 = box.xyxy.cpu().detach().numpy()[0]\n",
    "    conf = box.conf.cpu().detach().numpy()\n",
    "    cls = box.cls.cpu().detach().numpy()\n",
    "    bboxes.append([int(cls), float(conf), int(float(x1)), int(float(y1)), int(float(x2)), int(float(y2))])\n",
    "    annotations.append({'fileName':fileName,'bboxes':bboxes})\n",
    "    print(cls, conf, x1, y1, x2, y2)"
   ]
  },
  {
   "cell_type": "code",
   "execution_count": 63,
   "id": "e54352b5",
   "metadata": {},
   "outputs": [],
   "source": [
    "import os\n",
    "import cv2"
   ]
  },
  {
   "cell_type": "code",
   "execution_count": 64,
   "id": "0292519f",
   "metadata": {},
   "outputs": [],
   "source": [
    "mapper_cls = {\n",
    "    0: 'Furniture',\n",
    "    1: 'Metal',\n",
    "    2: 'Tree',\n",
    "    3: 'Ceramic',\n",
    "    4: 'Vinyl',\n",
    "    5: 'Styrofoam',\n",
    "    6: 'Glass',\n",
    "    7: 'Clothing',\n",
    "    8: 'Bicycle',\n",
    "    9: 'Electronic',\n",
    "    10: 'Paper',\n",
    "    11: 'Can',\n",
    "    12: 'PET',\n",
    "    13: 'Plastic',\n",
    "    14: 'FluorescentLight'\n",
    "}\n",
    "\n",
    "# 클래스 인덱스에 따른 boundingBox 의 색상을 정의합니다.\n",
    "mapper_color = {\n",
    "    0: (255, 0, 0),\n",
    "    1: (0, 255, 0),\n",
    "    2: (0, 0, 255),\n",
    "    3: (255, 255, 0),\n",
    "    4: (255, 0, 255),\n",
    "    5: (0, 255, 255),\n",
    "    6: (255, 255, 255),\n",
    "    7: (128, 128, 0),\n",
    "    8: (128, 0, 128),\n",
    "    9: (0, 128, 128),\n",
    "    10: (0, 0, 128),\n",
    "    11: (0, 128, 0),\n",
    "    12: (128, 0, 0),\n",
    "    13: (128, 128, 128),\n",
    "    14: (0, 128, 255)\n",
    "}"
   ]
  },
  {
   "cell_type": "code",
   "execution_count": 65,
   "id": "f06b66c6",
   "metadata": {},
   "outputs": [],
   "source": [
    "#annotations.append({'fileName':fileName,'bboxes':bboxes})\n",
    "\n",
    "# 한 이미지에 표현된 boundingBox를 시각화합니다.\n",
    "idx = 0\n",
    "idx_max = len(annotations)\n",
    "while True:\n",
    "    annotation = annotations[idx]\n",
    "    imagePath = fileName\n",
    "    frame = cv2.imread(imagePath, cv2.IMREAD_COLOR)\n",
    "\n",
    "    # draw image name\n",
    "    frame = cv2.putText(frame, f\"{annotation['fileName']}\", (10, 22), cv2.FONT_HERSHEY_SIMPLEX, 0.7, (0,0,255), 2)\n",
    "\n",
    "    # draw bboxes\n",
    "    for id,confidence, x1, y1, x2, y2 in annotation[\"bboxes\"]:\n",
    "        frame = cv2.rectangle(frame, (x1,y1), (x2,y2), mapper_color[id], 2)\n",
    "        frame = cv2.putText(frame, f\"{mapper_cls[id]}\", (x1, y1-10), cv2.FONT_HERSHEY_COMPLEX, 3,  mapper_color[id], 3)\n",
    "    small_frame = cv2.resize(frame, (1000, 1000))\n",
    "    # Visualize image\n",
    "    cv2.imshow('frame', small_frame)\n",
    "\n",
    "    # Weight keyboard event\n",
    "    key = cv2.waitKeyEx(0)\n",
    "    if key==0x270000: # right Key : 인덱스를 1칸 앞으로 이동시킵니다.\n",
    "        idx = min(idx+1, idx_max)\n",
    "    elif key==0x250000: # left Key : 인덱스를 1칸 뒤로 이동시킵니다.\n",
    "        idx = max(idx-1, 0)\n",
    "    elif key==0x260000: # up Key : 인덱스를 10칸 앞으로 이동시킵니다.\n",
    "        idx = min(idx+10, idx_max)\n",
    "    elif key==0x280000: # down Key : 인덱스를 10칸 뒤로 이동시킵니다.\n",
    "        idx = max(idx-10, 0)\n",
    "    elif key==0x1B: # esc Key : 프로세스를 종료합니다.\n",
    "        cv2.destroyAllWindows() \n",
    "        break\n",
    "    elif key==115: # S Key : 현재 표시되는 시각화된 이미지를 저장합니다.\n",
    "        cv2.imwrite(annotation[\"fileName\"], frame)"
   ]
  },
  {
   "cell_type": "code",
   "execution_count": null,
   "id": "928dda43",
   "metadata": {},
   "outputs": [],
   "source": [
    "img1 = 'C:\\\\Users\\\\juntae\\\\sesac\\\\datasets\\\\aihub\\\\waste\\\\Training\\\\11_X001_C012_1215_0.jpg'\n",
    "txt1 = 'C:\\\\Users\\\\juntae\\\\sesac\\\\datasets\\\\aihub\\\\waste\\\\Training\\\\11_X001_C012_1215_0.txt'\n",
    "img2 = 'C:\\\\Users\\\\juntae\\\\sesac\\\\datasets\\\\aihub\\\\waste\\\\Training\\\\11_X001_C023_0119_0.jpg'\n",
    "txt2 = 'C:\\\\Users\\\\juntae\\\\sesac\\\\datasets\\\\aihub\\\\waste\\\\Training\\\\11_X001_C023_0119_0.txt'"
   ]
  },
  {
   "cell_type": "code",
   "execution_count": null,
   "id": "eb73b9ca",
   "metadata": {},
   "outputs": [],
   "source": [
    "import cv2\n",
    "\n",
    "def draw_boxes_on_image(image_path, txt_path):\n",
    "    # 이미지 로드\n",
    "    image = cv2.imread(image_path)\n",
    "\n",
    "    # 텍스트 파일 열기\n",
    "    with open(txt_path, 'r') as file:\n",
    "        lines = file.readlines()\n",
    "\n",
    "    # 각 줄에서 좌표와 레이블을 읽어들여 박스 그리기\n",
    "    for line in lines:\n",
    "        line = line.strip().split()\n",
    "        label = line[0]\n",
    "        x, y, w, h = map(float, line[1:])\n",
    "\n",
    "        # 좌표를 이미지 크기에 맞게 변환\n",
    "        height, width, _ = image.shape\n",
    "        x1 = int((x - w / 2) * width)\n",
    "        y1 = int((y - h / 2) * height)\n",
    "        x2 = int((x + w / 2) * width)\n",
    "        y2 = int((y + h / 2) * height)\n",
    "\n",
    "        # 박스 그리기\n",
    "        cv2.rectangle(image, (x1, y1), (x2, y2), (0, 255, 0), 2)\n",
    "        cv2.putText(image, label, (x1, y1 - 10), cv2.FONT_HERSHEY_SIMPLEX, 0.9, (0, 255, 0), 2)\n",
    "\n",
    "    # 이미지 보여주기\n",
    "    cv2.imshow('Image with Boxes', image)\n",
    "    cv2.waitKey(0)\n",
    "    cv2.destroyAllWindows()\n",
    "\n",
    "# 이미지 파일 경로와 텍스트 파일 경로\n",
    "image_path = img2\n",
    "txt_path = txt2\n",
    "\n",
    "# 박스 그리기 함수 호출\n",
    "draw_boxes_on_image(image_path, txt_path)\n"
   ]
  },
  {
   "cell_type": "code",
   "execution_count": null,
   "id": "110459fe",
   "metadata": {},
   "outputs": [],
   "source": []
  }
 ],
 "metadata": {
  "kernelspec": {
   "display_name": "InkDetection",
   "language": "python",
   "name": "inkdetection"
  },
  "language_info": {
   "codemirror_mode": {
    "name": "ipython",
    "version": 3
   },
   "file_extension": ".py",
   "mimetype": "text/x-python",
   "name": "python",
   "nbconvert_exporter": "python",
   "pygments_lexer": "ipython3",
   "version": "3.8.17"
  }
 },
 "nbformat": 4,
 "nbformat_minor": 5
}
